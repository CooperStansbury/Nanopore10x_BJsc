{
 "cells": [
  {
   "cell_type": "code",
   "execution_count": 1,
   "id": "222bfd70-d7c3-44d2-95bf-66659fa1cf29",
   "metadata": {},
   "outputs": [],
   "source": [
    "import pandas as pd\n",
    "import numpy as np\n",
    "import glob\n",
    "import os\n",
    "import pysam"
   ]
  },
  {
   "cell_type": "code",
   "execution_count": 2,
   "id": "22e24796-a428-473a-b72a-1979a860f45a",
   "metadata": {},
   "outputs": [
    {
     "data": {
      "text/plain": [
       "['/scratch/indikar_root/indikar1/cstansbu/low_sensitivity/demultiplex/Run3.putative_bc.csv',\n",
       " '/scratch/indikar_root/indikar1/cstansbu/high_sensitivity/demultiplex/Run3.putative_bc.csv']"
      ]
     },
     "execution_count": 2,
     "metadata": {},
     "output_type": "execute_result"
    }
   ],
   "source": [
    "file_list = glob.glob(\"/scratch/indikar_root/indikar1/cstansbu/*/demultiplex/Run3.putative_bc.csv\")\n",
    "file_list"
   ]
  },
  {
   "cell_type": "markdown",
   "id": "0e1d375b-e32e-471a-8588-c106dbc0186e",
   "metadata": {},
   "source": [
    "# Demultiplexing Report"
   ]
  },
  {
   "cell_type": "code",
   "execution_count": 3,
   "id": "64341b07-9529-463c-bdf8-c33de3c8b876",
   "metadata": {},
   "outputs": [
    {
     "name": "stdout",
     "output_type": "stream",
     "text": [
      "high sensitivity: tmp.shape=(238424, 8)\n",
      "low sensitivity: tmp.shape=(238424, 8)\n"
     ]
    },
    {
     "data": {
      "text/html": [
       "<div>\n",
       "<style scoped>\n",
       "    .dataframe tbody tr th:only-of-type {\n",
       "        vertical-align: middle;\n",
       "    }\n",
       "\n",
       "    .dataframe tbody tr th {\n",
       "        vertical-align: top;\n",
       "    }\n",
       "\n",
       "    .dataframe thead th {\n",
       "        text-align: right;\n",
       "    }\n",
       "</style>\n",
       "<table border=\"1\" class=\"dataframe\">\n",
       "  <thead>\n",
       "    <tr style=\"text-align: right;\">\n",
       "      <th></th>\n",
       "      <th>read_id</th>\n",
       "      <th>putative_bc</th>\n",
       "      <th>putative_bc_min_q</th>\n",
       "      <th>putative_umi</th>\n",
       "      <th>polyT_end</th>\n",
       "      <th>pre_bc_flanking</th>\n",
       "      <th>post_umi_flanking</th>\n",
       "      <th>sensitivity</th>\n",
       "      <th>n_unique</th>\n",
       "    </tr>\n",
       "  </thead>\n",
       "  <tbody>\n",
       "    <tr>\n",
       "      <th>27899</th>\n",
       "      <td>00001862-a60a-45d5-8c54-eeebf9cd617e</td>\n",
       "      <td>TCCCGTTGTTTCAGGT</td>\n",
       "      <td>28.0</td>\n",
       "      <td>CTTCTCACGACG</td>\n",
       "      <td>-119.0</td>\n",
       "      <td>GATCT</td>\n",
       "      <td>TTTTT</td>\n",
       "      <td>high</td>\n",
       "      <td>1</td>\n",
       "    </tr>\n",
       "    <tr>\n",
       "      <th>27899</th>\n",
       "      <td>00001862-a60a-45d5-8c54-eeebf9cd617e</td>\n",
       "      <td>TCCCGTTGTTTCAGGT</td>\n",
       "      <td>28.0</td>\n",
       "      <td>CTTCTCACGACG</td>\n",
       "      <td>-119.0</td>\n",
       "      <td>GATCT</td>\n",
       "      <td>TTTTT</td>\n",
       "      <td>low</td>\n",
       "      <td>1</td>\n",
       "    </tr>\n",
       "    <tr>\n",
       "      <th>127139</th>\n",
       "      <td>00003087-bb68-44f1-a202-5847b8ccb047</td>\n",
       "      <td>CCATTTCAGAACCAGG</td>\n",
       "      <td>21.0</td>\n",
       "      <td>CCCCTTCGGCAC</td>\n",
       "      <td>-142.0</td>\n",
       "      <td>GATCT</td>\n",
       "      <td>TTTTT</td>\n",
       "      <td>high</td>\n",
       "      <td>1</td>\n",
       "    </tr>\n",
       "    <tr>\n",
       "      <th>127139</th>\n",
       "      <td>00003087-bb68-44f1-a202-5847b8ccb047</td>\n",
       "      <td>CCATTTCAGAACCAGG</td>\n",
       "      <td>21.0</td>\n",
       "      <td>CCCCTTCGGCAC</td>\n",
       "      <td>-142.0</td>\n",
       "      <td>GATCT</td>\n",
       "      <td>TTTTT</td>\n",
       "      <td>low</td>\n",
       "      <td>1</td>\n",
       "    </tr>\n",
       "    <tr>\n",
       "      <th>58015</th>\n",
       "      <td>00003be1-d42d-4479-aacd-fc0edd146917</td>\n",
       "      <td>ACTCTAAGTTGGTGCC</td>\n",
       "      <td>23.0</td>\n",
       "      <td>AGACATTAGGAC</td>\n",
       "      <td>156.0</td>\n",
       "      <td>GATCT</td>\n",
       "      <td>TTTTT</td>\n",
       "      <td>high</td>\n",
       "      <td>1</td>\n",
       "    </tr>\n",
       "    <tr>\n",
       "      <th>58015</th>\n",
       "      <td>00003be1-d42d-4479-aacd-fc0edd146917</td>\n",
       "      <td>ACTCTAAGTTGGTGCC</td>\n",
       "      <td>23.0</td>\n",
       "      <td>AGACATTAGGAC</td>\n",
       "      <td>156.0</td>\n",
       "      <td>GATCT</td>\n",
       "      <td>TTTTT</td>\n",
       "      <td>low</td>\n",
       "      <td>1</td>\n",
       "    </tr>\n",
       "  </tbody>\n",
       "</table>\n",
       "</div>"
      ],
      "text/plain": [
       "                                     read_id       putative_bc  \\\n",
       "27899   00001862-a60a-45d5-8c54-eeebf9cd617e  TCCCGTTGTTTCAGGT   \n",
       "27899   00001862-a60a-45d5-8c54-eeebf9cd617e  TCCCGTTGTTTCAGGT   \n",
       "127139  00003087-bb68-44f1-a202-5847b8ccb047  CCATTTCAGAACCAGG   \n",
       "127139  00003087-bb68-44f1-a202-5847b8ccb047  CCATTTCAGAACCAGG   \n",
       "58015   00003be1-d42d-4479-aacd-fc0edd146917  ACTCTAAGTTGGTGCC   \n",
       "58015   00003be1-d42d-4479-aacd-fc0edd146917  ACTCTAAGTTGGTGCC   \n",
       "\n",
       "        putative_bc_min_q  putative_umi  polyT_end pre_bc_flanking  \\\n",
       "27899                28.0  CTTCTCACGACG     -119.0           GATCT   \n",
       "27899                28.0  CTTCTCACGACG     -119.0           GATCT   \n",
       "127139               21.0  CCCCTTCGGCAC     -142.0           GATCT   \n",
       "127139               21.0  CCCCTTCGGCAC     -142.0           GATCT   \n",
       "58015                23.0  AGACATTAGGAC      156.0           GATCT   \n",
       "58015                23.0  AGACATTAGGAC      156.0           GATCT   \n",
       "\n",
       "       post_umi_flanking sensitivity  n_unique  \n",
       "27899              TTTTT        high         1  \n",
       "27899              TTTTT         low         1  \n",
       "127139             TTTTT        high         1  \n",
       "127139             TTTTT         low         1  \n",
       "58015              TTTTT        high         1  \n",
       "58015              TTTTT         low         1  "
      ]
     },
     "execution_count": 3,
     "metadata": {},
     "output_type": "execute_result"
    }
   ],
   "source": [
    "file_paths = {\n",
    "    'high' : \"/scratch/indikar_root/indikar1/cstansbu/high_sensitivity/demultiplex/Run3.putative_bc.csv\",\n",
    "    'low' : \"/scratch/indikar_root/indikar1/cstansbu/low_sensitivity/demultiplex/Run3.putative_bc.csv\",\n",
    "}\n",
    "\n",
    "df = []\n",
    "for k, fpath in file_paths.items():\n",
    "    tmp = pd.read_csv(fpath)\n",
    "    tmp['sensitivity'] = k\n",
    "    print(f\"{k} sensitivity: {tmp.shape=}\")\n",
    "    df.append(tmp)    \n",
    "    \n",
    "df = pd.concat(df)\n",
    "df['n_unique'] = df.groupby('read_id')['putative_bc'].transform('nunique')\n",
    "df = df.sort_values(by=['read_id', 'sensitivity'])\n",
    "df.head(6)"
   ]
  },
  {
   "cell_type": "code",
   "execution_count": 4,
   "id": "25cfc031-564e-4790-aca4-a50845ee90eb",
   "metadata": {},
   "outputs": [
    {
     "data": {
      "text/plain": [
       "n_unique\n",
       "1    438212\n",
       "0     38636\n",
       "Name: count, dtype: int64"
      ]
     },
     "execution_count": 4,
     "metadata": {},
     "output_type": "execute_result"
    }
   ],
   "source": [
    "df['n_unique'].value_counts(dropna=False)"
   ]
  },
  {
   "cell_type": "markdown",
   "id": "f8682509-a807-401d-a76f-9c0dcd4dc605",
   "metadata": {},
   "source": [
    "# Check whitelist"
   ]
  },
  {
   "cell_type": "code",
   "execution_count": 5,
   "id": "412f12cc-e976-44a6-bbbd-4af6a5ddf7c9",
   "metadata": {},
   "outputs": [
    {
     "name": "stdout",
     "output_type": "stream",
     "text": [
      "high sensitivity: tmp.shape=(20356, 2)\n",
      "low sensitivity: tmp.shape=(9200, 2)\n",
      "df['barcode'].nunique()=20356\n"
     ]
    },
    {
     "data": {
      "text/html": [
       "<div>\n",
       "<style scoped>\n",
       "    .dataframe tbody tr th:only-of-type {\n",
       "        vertical-align: middle;\n",
       "    }\n",
       "\n",
       "    .dataframe tbody tr th {\n",
       "        vertical-align: top;\n",
       "    }\n",
       "\n",
       "    .dataframe thead th {\n",
       "        text-align: right;\n",
       "    }\n",
       "</style>\n",
       "<table border=\"1\" class=\"dataframe\">\n",
       "  <thead>\n",
       "    <tr style=\"text-align: right;\">\n",
       "      <th></th>\n",
       "      <th>barcode</th>\n",
       "      <th>sensitivity</th>\n",
       "      <th>bc_count</th>\n",
       "    </tr>\n",
       "  </thead>\n",
       "  <tbody>\n",
       "    <tr>\n",
       "      <th>0</th>\n",
       "      <td>CTATCATCAAGCGTGC</td>\n",
       "      <td>high</td>\n",
       "      <td>2</td>\n",
       "    </tr>\n",
       "    <tr>\n",
       "      <th>1</th>\n",
       "      <td>GCATTTGAGATTCAGT</td>\n",
       "      <td>high</td>\n",
       "      <td>2</td>\n",
       "    </tr>\n",
       "    <tr>\n",
       "      <th>2</th>\n",
       "      <td>AGGTGTGAGTTGGTGC</td>\n",
       "      <td>high</td>\n",
       "      <td>2</td>\n",
       "    </tr>\n",
       "    <tr>\n",
       "      <th>3</th>\n",
       "      <td>GTGATATTCCGGACAT</td>\n",
       "      <td>high</td>\n",
       "      <td>2</td>\n",
       "    </tr>\n",
       "    <tr>\n",
       "      <th>4</th>\n",
       "      <td>GCTGCCTTCTGGATTG</td>\n",
       "      <td>high</td>\n",
       "      <td>2</td>\n",
       "    </tr>\n",
       "  </tbody>\n",
       "</table>\n",
       "</div>"
      ],
      "text/plain": [
       "            barcode sensitivity  bc_count\n",
       "0  CTATCATCAAGCGTGC        high         2\n",
       "1  GCATTTGAGATTCAGT        high         2\n",
       "2  AGGTGTGAGTTGGTGC        high         2\n",
       "3  GTGATATTCCGGACAT        high         2\n",
       "4  GCTGCCTTCTGGATTG        high         2"
      ]
     },
     "execution_count": 5,
     "metadata": {},
     "output_type": "execute_result"
    }
   ],
   "source": [
    "file_paths = {\n",
    "    'high' : \"/scratch/indikar_root/indikar1/cstansbu/high_sensitivity/demultiplex/Run3.whitelist.csv\",\n",
    "    'low' : \"/scratch/indikar_root/indikar1/cstansbu/low_sensitivity/demultiplex/Run3.whitelist.csv\",\n",
    "}\n",
    "\n",
    "df = []\n",
    "for k, fpath in file_paths.items():\n",
    "    tmp = pd.read_csv(fpath, header=None, names=['barcode'])\n",
    "    tmp['sensitivity'] = k\n",
    "    print(f\"{k} sensitivity: {tmp.shape=}\")\n",
    "    df.append(tmp)   \n",
    "    \n",
    "df = pd.concat(df)  \n",
    "print(f\"{df['barcode'].nunique()=}\")\n",
    "df['bc_count'] = df.groupby('barcode')['sensitivity'].transform('nunique')\n",
    "\n",
    "df.head()"
   ]
  },
  {
   "cell_type": "code",
   "execution_count": 6,
   "id": "00cb8adb-fd8f-4818-a87b-7dd5f9e95f35",
   "metadata": {},
   "outputs": [
    {
     "data": {
      "text/plain": [
       "bc_count\n",
       "2    18400\n",
       "1    11156\n",
       "Name: count, dtype: int64"
      ]
     },
     "execution_count": 6,
     "metadata": {},
     "output_type": "execute_result"
    }
   ],
   "source": [
    "df['bc_count'].value_counts()"
   ]
  },
  {
   "cell_type": "code",
   "execution_count": 7,
   "id": "07a94af0-b4ee-428c-96c8-36f516935d40",
   "metadata": {},
   "outputs": [
    {
     "data": {
      "text/html": [
       "<div>\n",
       "<style scoped>\n",
       "    .dataframe tbody tr th:only-of-type {\n",
       "        vertical-align: middle;\n",
       "    }\n",
       "\n",
       "    .dataframe tbody tr th {\n",
       "        vertical-align: top;\n",
       "    }\n",
       "\n",
       "    .dataframe thead th {\n",
       "        text-align: right;\n",
       "    }\n",
       "</style>\n",
       "<table border=\"1\" class=\"dataframe\">\n",
       "  <thead>\n",
       "    <tr style=\"text-align: right;\">\n",
       "      <th></th>\n",
       "      <th>barcode</th>\n",
       "      <th>sensitivity</th>\n",
       "      <th>bc_count</th>\n",
       "    </tr>\n",
       "  </thead>\n",
       "  <tbody>\n",
       "    <tr>\n",
       "      <th>9200</th>\n",
       "      <td>TGGTTCCCATTGCACC</td>\n",
       "      <td>high</td>\n",
       "      <td>1</td>\n",
       "    </tr>\n",
       "    <tr>\n",
       "      <th>9201</th>\n",
       "      <td>ATCTACTCACTTGGCT</td>\n",
       "      <td>high</td>\n",
       "      <td>1</td>\n",
       "    </tr>\n",
       "    <tr>\n",
       "      <th>9202</th>\n",
       "      <td>CTCAACGGTTGCTGGC</td>\n",
       "      <td>high</td>\n",
       "      <td>1</td>\n",
       "    </tr>\n",
       "    <tr>\n",
       "      <th>9203</th>\n",
       "      <td>CTTGCTTAGAACGGCA</td>\n",
       "      <td>high</td>\n",
       "      <td>1</td>\n",
       "    </tr>\n",
       "    <tr>\n",
       "      <th>9204</th>\n",
       "      <td>CGGCCAATCAATCCTC</td>\n",
       "      <td>high</td>\n",
       "      <td>1</td>\n",
       "    </tr>\n",
       "    <tr>\n",
       "      <th>...</th>\n",
       "      <td>...</td>\n",
       "      <td>...</td>\n",
       "      <td>...</td>\n",
       "    </tr>\n",
       "    <tr>\n",
       "      <th>20351</th>\n",
       "      <td>AGCCGATTCATGGTAT</td>\n",
       "      <td>high</td>\n",
       "      <td>1</td>\n",
       "    </tr>\n",
       "    <tr>\n",
       "      <th>20352</th>\n",
       "      <td>AAGGTTAAGTAGACCC</td>\n",
       "      <td>high</td>\n",
       "      <td>1</td>\n",
       "    </tr>\n",
       "    <tr>\n",
       "      <th>20353</th>\n",
       "      <td>CGCATAGCAAACTACA</td>\n",
       "      <td>high</td>\n",
       "      <td>1</td>\n",
       "    </tr>\n",
       "    <tr>\n",
       "      <th>20354</th>\n",
       "      <td>ACAGCTCAGGCTACCG</td>\n",
       "      <td>high</td>\n",
       "      <td>1</td>\n",
       "    </tr>\n",
       "    <tr>\n",
       "      <th>20355</th>\n",
       "      <td>TCCATAAGTATGGCTT</td>\n",
       "      <td>high</td>\n",
       "      <td>1</td>\n",
       "    </tr>\n",
       "  </tbody>\n",
       "</table>\n",
       "<p>11156 rows × 3 columns</p>\n",
       "</div>"
      ],
      "text/plain": [
       "                barcode sensitivity  bc_count\n",
       "9200   TGGTTCCCATTGCACC        high         1\n",
       "9201   ATCTACTCACTTGGCT        high         1\n",
       "9202   CTCAACGGTTGCTGGC        high         1\n",
       "9203   CTTGCTTAGAACGGCA        high         1\n",
       "9204   CGGCCAATCAATCCTC        high         1\n",
       "...                 ...         ...       ...\n",
       "20351  AGCCGATTCATGGTAT        high         1\n",
       "20352  AAGGTTAAGTAGACCC        high         1\n",
       "20353  CGCATAGCAAACTACA        high         1\n",
       "20354  ACAGCTCAGGCTACCG        high         1\n",
       "20355  TCCATAAGTATGGCTT        high         1\n",
       "\n",
       "[11156 rows x 3 columns]"
      ]
     },
     "execution_count": 7,
     "metadata": {},
     "output_type": "execute_result"
    }
   ],
   "source": [
    "df[df['bc_count'] == 1]"
   ]
  },
  {
   "cell_type": "markdown",
   "id": "4b86c276-535e-40b0-ac5a-8b835d8ef155",
   "metadata": {},
   "source": [
    "# Check FASTQ"
   ]
  },
  {
   "cell_type": "code",
   "execution_count": 8,
   "id": "a899489b-58c0-4520-b383-53254bee3ac3",
   "metadata": {},
   "outputs": [
    {
     "data": {
      "text/html": [
       "<div>\n",
       "<style scoped>\n",
       "    .dataframe tbody tr th:only-of-type {\n",
       "        vertical-align: middle;\n",
       "    }\n",
       "\n",
       "    .dataframe tbody tr th {\n",
       "        vertical-align: top;\n",
       "    }\n",
       "\n",
       "    .dataframe thead th {\n",
       "        text-align: right;\n",
       "    }\n",
       "</style>\n",
       "<table border=\"1\" class=\"dataframe\">\n",
       "  <thead>\n",
       "    <tr style=\"text-align: right;\">\n",
       "      <th></th>\n",
       "      <th>sensitivity</th>\n",
       "      <th>read_name</th>\n",
       "      <th>barcode</th>\n",
       "      <th>umi</th>\n",
       "      <th>n_barcode</th>\n",
       "    </tr>\n",
       "  </thead>\n",
       "  <tbody>\n",
       "    <tr>\n",
       "      <th>23784</th>\n",
       "      <td>high</td>\n",
       "      <td>00001862-a60a-45d5-8c54-eeebf9cd617e</td>\n",
       "      <td>TCCCGTTGTTTCAGGT</td>\n",
       "      <td>CTTCTCACGACG</td>\n",
       "      <td>1</td>\n",
       "    </tr>\n",
       "    <tr>\n",
       "      <th>226412</th>\n",
       "      <td>low</td>\n",
       "      <td>00001862-a60a-45d5-8c54-eeebf9cd617e</td>\n",
       "      <td>TCCCGTTGTTTCAGGT</td>\n",
       "      <td>CTTCTCACGACG</td>\n",
       "      <td>1</td>\n",
       "    </tr>\n",
       "    <tr>\n",
       "      <th>108206</th>\n",
       "      <td>high</td>\n",
       "      <td>00003087-bb68-44f1-a202-5847b8ccb047</td>\n",
       "      <td>CCATTTCAGAACCAGG</td>\n",
       "      <td>CCCCTTCGGCAC</td>\n",
       "      <td>1</td>\n",
       "    </tr>\n",
       "    <tr>\n",
       "      <th>307222</th>\n",
       "      <td>low</td>\n",
       "      <td>00003087-bb68-44f1-a202-5847b8ccb047</td>\n",
       "      <td>CCATTTCAGAACCAGG</td>\n",
       "      <td>CCCCTTCGGCAC</td>\n",
       "      <td>1</td>\n",
       "    </tr>\n",
       "    <tr>\n",
       "      <th>49641</th>\n",
       "      <td>high</td>\n",
       "      <td>00003be1-d42d-4479-aacd-fc0edd146917</td>\n",
       "      <td>ACTCTAAGTTGGTGCC</td>\n",
       "      <td>AGACATTAGGAC</td>\n",
       "      <td>1</td>\n",
       "    </tr>\n",
       "  </tbody>\n",
       "</table>\n",
       "</div>"
      ],
      "text/plain": [
       "       sensitivity                             read_name           barcode  \\\n",
       "23784         high  00001862-a60a-45d5-8c54-eeebf9cd617e  TCCCGTTGTTTCAGGT   \n",
       "226412         low  00001862-a60a-45d5-8c54-eeebf9cd617e  TCCCGTTGTTTCAGGT   \n",
       "108206        high  00003087-bb68-44f1-a202-5847b8ccb047  CCATTTCAGAACCAGG   \n",
       "307222         low  00003087-bb68-44f1-a202-5847b8ccb047  CCATTTCAGAACCAGG   \n",
       "49641         high  00003be1-d42d-4479-aacd-fc0edd146917  ACTCTAAGTTGGTGCC   \n",
       "\n",
       "                 umi  n_barcode  \n",
       "23784   CTTCTCACGACG          1  \n",
       "226412  CTTCTCACGACG          1  \n",
       "108206  CCCCTTCGGCAC          1  \n",
       "307222  CCCCTTCGGCAC          1  \n",
       "49641   AGACATTAGGAC          1  "
      ]
     },
     "execution_count": 8,
     "metadata": {},
     "output_type": "execute_result"
    }
   ],
   "source": [
    "file_paths = {\n",
    "    'high' : \"/scratch/indikar_root/indikar1/cstansbu/high_sensitivity/demultiplex/Run3.matched_reads.fastq.gz\",\n",
    "    'low' : \"/scratch/indikar_root/indikar1/cstansbu/low_sensitivity/demultiplex/Run3.matched_reads.fastq.gz\",\n",
    "}\n",
    "\n",
    "result = []\n",
    "for k, fpath in file_paths.items():\n",
    "    \n",
    "    fastq = pysam.FastqFile(fpath)\n",
    "    \n",
    "    for read in fastq:\n",
    "        read_name = read.name\n",
    "        record = {\n",
    "            'sensitivity' : k,\n",
    "            'read_name' : read_name.split(\"#\")[-1].split(\"_\")[0],\n",
    "            'barcode' : read_name.split(\"_\")[0],\n",
    "            'umi' : read_name.split(\"_\")[1].split(\"#\")[0],\n",
    "        }\n",
    "        \n",
    "        result.append(record)\n",
    "    \n",
    "result = pd.DataFrame(result)\n",
    "result['n_barcode'] = result.groupby('read_name')['barcode'].transform('nunique')\n",
    "result = result.sort_values(by=['read_name', 'sensitivity'])\n",
    "result.head()"
   ]
  },
  {
   "cell_type": "code",
   "execution_count": 9,
   "id": "a91d9156-17a0-4b98-a046-417e0c2bfe1f",
   "metadata": {},
   "outputs": [
    {
     "data": {
      "text/plain": [
       "n_barcode\n",
       "1    391957\n",
       "2      6548\n",
       "Name: count, dtype: int64"
      ]
     },
     "execution_count": 9,
     "metadata": {},
     "output_type": "execute_result"
    }
   ],
   "source": [
    "result['n_barcode'].value_counts() "
   ]
  },
  {
   "cell_type": "code",
   "execution_count": 10,
   "id": "037457ec-a6a2-4c77-a0d7-f0eb7d39451f",
   "metadata": {},
   "outputs": [
    {
     "data": {
      "text/html": [
       "<div>\n",
       "<style scoped>\n",
       "    .dataframe tbody tr th:only-of-type {\n",
       "        vertical-align: middle;\n",
       "    }\n",
       "\n",
       "    .dataframe tbody tr th {\n",
       "        vertical-align: top;\n",
       "    }\n",
       "\n",
       "    .dataframe thead th {\n",
       "        text-align: right;\n",
       "    }\n",
       "</style>\n",
       "<table border=\"1\" class=\"dataframe\">\n",
       "  <thead>\n",
       "    <tr style=\"text-align: right;\">\n",
       "      <th></th>\n",
       "      <th>sensitivity</th>\n",
       "      <th>read_name</th>\n",
       "      <th>barcode</th>\n",
       "      <th>umi</th>\n",
       "      <th>n_barcode</th>\n",
       "    </tr>\n",
       "  </thead>\n",
       "  <tbody>\n",
       "    <tr>\n",
       "      <th>194738</th>\n",
       "      <td>high</td>\n",
       "      <td>00010160-91e5-4a72-b20a-5663e1008173</td>\n",
       "      <td>TGCTTAGAGGCGAATG</td>\n",
       "      <td>GGCAGACCGAAT</td>\n",
       "      <td>2</td>\n",
       "    </tr>\n",
       "    <tr>\n",
       "      <th>389981</th>\n",
       "      <td>low</td>\n",
       "      <td>00010160-91e5-4a72-b20a-5663e1008173</td>\n",
       "      <td>TGCTTAGAGGCGAAGC</td>\n",
       "      <td>TGGGCAGACCGA</td>\n",
       "      <td>2</td>\n",
       "    </tr>\n",
       "    <tr>\n",
       "      <th>62321</th>\n",
       "      <td>high</td>\n",
       "      <td>003edd44-6ec6-44be-a1ec-55d5e0d62aca</td>\n",
       "      <td>TGAGTGAGTCTGGTAT</td>\n",
       "      <td>TTGGAGTACGGA</td>\n",
       "      <td>2</td>\n",
       "    </tr>\n",
       "    <tr>\n",
       "      <th>263304</th>\n",
       "      <td>low</td>\n",
       "      <td>003edd44-6ec6-44be-a1ec-55d5e0d62aca</td>\n",
       "      <td>GGTGCGAGTCTGGTAT</td>\n",
       "      <td>TTGGAGTACGGA</td>\n",
       "      <td>2</td>\n",
       "    </tr>\n",
       "    <tr>\n",
       "      <th>81621</th>\n",
       "      <td>high</td>\n",
       "      <td>005150f7-b849-4c52-89c0-3859f04a9e9b</td>\n",
       "      <td>CAGGGGACAACTAGCG</td>\n",
       "      <td>ACCACACCGGGT</td>\n",
       "      <td>2</td>\n",
       "    </tr>\n",
       "    <tr>\n",
       "      <th>281785</th>\n",
       "      <td>low</td>\n",
       "      <td>005150f7-b849-4c52-89c0-3859f04a9e9b</td>\n",
       "      <td>AGGCGGACAACTAAGC</td>\n",
       "      <td>GACCACACCGGG</td>\n",
       "      <td>2</td>\n",
       "    </tr>\n",
       "  </tbody>\n",
       "</table>\n",
       "</div>"
      ],
      "text/plain": [
       "       sensitivity                             read_name           barcode  \\\n",
       "194738        high  00010160-91e5-4a72-b20a-5663e1008173  TGCTTAGAGGCGAATG   \n",
       "389981         low  00010160-91e5-4a72-b20a-5663e1008173  TGCTTAGAGGCGAAGC   \n",
       "62321         high  003edd44-6ec6-44be-a1ec-55d5e0d62aca  TGAGTGAGTCTGGTAT   \n",
       "263304         low  003edd44-6ec6-44be-a1ec-55d5e0d62aca  GGTGCGAGTCTGGTAT   \n",
       "81621         high  005150f7-b849-4c52-89c0-3859f04a9e9b  CAGGGGACAACTAGCG   \n",
       "281785         low  005150f7-b849-4c52-89c0-3859f04a9e9b  AGGCGGACAACTAAGC   \n",
       "\n",
       "                 umi  n_barcode  \n",
       "194738  GGCAGACCGAAT          2  \n",
       "389981  TGGGCAGACCGA          2  \n",
       "62321   TTGGAGTACGGA          2  \n",
       "263304  TTGGAGTACGGA          2  \n",
       "81621   ACCACACCGGGT          2  \n",
       "281785  GACCACACCGGG          2  "
      ]
     },
     "execution_count": 10,
     "metadata": {},
     "output_type": "execute_result"
    }
   ],
   "source": [
    "mismatch = result[result['n_barcode'] == 2]\n",
    "mismatch.head(6)"
   ]
  },
  {
   "cell_type": "code",
   "execution_count": 11,
   "id": "7b83bca7-c374-46fb-878f-e0e30b7e683c",
   "metadata": {},
   "outputs": [
    {
     "data": {
      "text/plain": [
       "0.01591421682998911"
      ]
     },
     "execution_count": 11,
     "metadata": {},
     "output_type": "execute_result"
    }
   ],
   "source": [
    "mismatch['read_name'].nunique() / result['read_name'].nunique()"
   ]
  },
  {
   "cell_type": "code",
   "execution_count": null,
   "id": "d7ea4fd6-484e-4c6c-b026-a94129fa9139",
   "metadata": {},
   "outputs": [],
   "source": []
  }
 ],
 "metadata": {
  "kernelspec": {
   "display_name": "bioinf",
   "language": "python",
   "name": "bioinf"
  },
  "language_info": {
   "codemirror_mode": {
    "name": "ipython",
    "version": 3
   },
   "file_extension": ".py",
   "mimetype": "text/x-python",
   "name": "python",
   "nbconvert_exporter": "python",
   "pygments_lexer": "ipython3",
   "version": "3.10.14"
  }
 },
 "nbformat": 4,
 "nbformat_minor": 5
}
