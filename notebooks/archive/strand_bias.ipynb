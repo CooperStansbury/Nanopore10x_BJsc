{
 "cells": [
  {
   "cell_type": "code",
   "execution_count": 9,
   "id": "6004c824-4c64-4b59-a385-b91bfc8d8e62",
   "metadata": {},
   "outputs": [],
   "source": [
    "import pandas as pd\n",
    "import numpy as np\n",
    "import glob"
   ]
  },
  {
   "cell_type": "code",
   "execution_count": 3,
   "id": "63869ed5-653b-4c63-a91f-1eaff5eda4a9",
   "metadata": {},
   "outputs": [
    {
     "data": {
      "text/plain": [
       "['/scratch/indikar_root/indikar1/shared_data/single_cell_fibroblast/demultiplex/Run6a.putative_bc.csv',\n",
       " '/scratch/indikar_root/indikar1/shared_data/single_cell_fibroblast/demultiplex/run1.putative_bc.csv',\n",
       " '/scratch/indikar_root/indikar1/shared_data/single_cell_fibroblast/demultiplex/Run4b.putative_bc.csv',\n",
       " '/scratch/indikar_root/indikar1/shared_data/single_cell_fibroblast/demultiplex/Run7a.putative_bc.csv',\n",
       " '/scratch/indikar_root/indikar1/shared_data/single_cell_fibroblast/demultiplex/Run5b.putative_bc.csv',\n",
       " '/scratch/indikar_root/indikar1/shared_data/single_cell_fibroblast/demultiplex/Run6c.putative_bc.csv',\n",
       " '/scratch/indikar_root/indikar1/shared_data/single_cell_fibroblast/demultiplex/Run4c.putative_bc.csv',\n",
       " '/scratch/indikar_root/indikar1/shared_data/single_cell_fibroblast/demultiplex/Run6b.putative_bc.csv',\n",
       " '/scratch/indikar_root/indikar1/shared_data/single_cell_fibroblast/demultiplex/Run6.putative_bc.csv',\n",
       " '/scratch/indikar_root/indikar1/shared_data/single_cell_fibroblast/demultiplex/Run2.putative_bc.csv',\n",
       " '/scratch/indikar_root/indikar1/shared_data/single_cell_fibroblast/demultiplex/Run4.putative_bc.csv',\n",
       " '/scratch/indikar_root/indikar1/shared_data/single_cell_fibroblast/demultiplex/Run5a.putative_bc.csv',\n",
       " '/scratch/indikar_root/indikar1/shared_data/single_cell_fibroblast/demultiplex/Run5c.putative_bc.csv',\n",
       " '/scratch/indikar_root/indikar1/shared_data/single_cell_fibroblast/demultiplex/Run3a.putative_bc.csv',\n",
       " '/scratch/indikar_root/indikar1/shared_data/single_cell_fibroblast/demultiplex/Run6d.putative_bc.csv',\n",
       " '/scratch/indikar_root/indikar1/shared_data/single_cell_fibroblast/demultiplex/Run7b.putative_bc.csv',\n",
       " '/scratch/indikar_root/indikar1/shared_data/single_cell_fibroblast/demultiplex/Run4a.putative_bc.csv',\n",
       " '/scratch/indikar_root/indikar1/shared_data/single_cell_fibroblast/demultiplex/Run5.putative_bc.csv',\n",
       " '/scratch/indikar_root/indikar1/shared_data/single_cell_fibroblast/demultiplex/Run2a.putative_bc.csv',\n",
       " '/scratch/indikar_root/indikar1/shared_data/single_cell_fibroblast/demultiplex/Run3.putative_bc.csv',\n",
       " '/scratch/indikar_root/indikar1/shared_data/single_cell_fibroblast/demultiplex/Run4d.putative_bc.csv']"
      ]
     },
     "execution_count": 3,
     "metadata": {},
     "output_type": "execute_result"
    }
   ],
   "source": [
    "dpath = \"/scratch/indikar_root/indikar1/shared_data/single_cell_fibroblast/demultiplex/\"\n",
    "file_list = glob.glob(f\"{dpath}*putative_bc*\")\n",
    "file_list"
   ]
  },
  {
   "cell_type": "code",
   "execution_count": 17,
   "id": "037fe366-8761-461b-b5b4-ed2bbef6f98a",
   "metadata": {},
   "outputs": [
    {
     "name": "stdout",
     "output_type": "stream",
     "text": [
      "df.shape=(20503808, 7)\n"
     ]
    },
    {
     "data": {
      "text/plain": [
       "post_umi_flanking\n",
       "TTTTT    8.964164e-01\n",
       "CTTTT    1.916696e-02\n",
       "GTTTT    1.865980e-02\n",
       "ATTTT    1.650887e-02\n",
       "TCTTT    3.268912e-03\n",
       "             ...     \n",
       "GGACG    2.662241e-06\n",
       "GTCGA    2.608996e-06\n",
       "CGTCG    2.342772e-06\n",
       "TTTT     5.324481e-08\n",
       "TTA      5.324481e-08\n",
       "Name: proportion, Length: 1026, dtype: float64"
      ]
     },
     "execution_count": 17,
     "metadata": {},
     "output_type": "execute_result"
    }
   ],
   "source": [
    "np.random.shuffle(file_list)\n",
    "for fpath in file_list:\n",
    "    df = pd.read_csv(fpath)\n",
    "    print(f\"{df.shape=}\")\n",
    "    break\n",
    "    \n",
    "df['post_umi_flanking'].value_counts(normalize=True)"
   ]
  },
  {
   "cell_type": "code",
   "execution_count": 18,
   "id": "2f60d678-5897-4e0a-9e1b-b9a52c8d87e5",
   "metadata": {},
   "outputs": [
    {
     "data": {
      "text/plain": [
       "0.5645317156344392"
      ]
     },
     "execution_count": 18,
     "metadata": {},
     "output_type": "execute_result"
    }
   ],
   "source": [
    "111578 / 197647"
   ]
  },
  {
   "cell_type": "code",
   "execution_count": null,
   "id": "00a7772d-7c2b-42bd-b7e1-e1167e13de46",
   "metadata": {},
   "outputs": [],
   "source": []
  }
 ],
 "metadata": {
  "kernelspec": {
   "display_name": "bioinf",
   "language": "python",
   "name": "bioinf"
  },
  "language_info": {
   "codemirror_mode": {
    "name": "ipython",
    "version": 3
   },
   "file_extension": ".py",
   "mimetype": "text/x-python",
   "name": "python",
   "nbconvert_exporter": "python",
   "pygments_lexer": "ipython3",
   "version": "3.10.14"
  }
 },
 "nbformat": 4,
 "nbformat_minor": 5
}
