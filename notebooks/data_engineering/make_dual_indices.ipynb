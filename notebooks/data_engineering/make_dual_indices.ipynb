{
 "cells": [
  {
   "cell_type": "code",
   "execution_count": 1,
   "id": "5d53d991-2ae9-4a65-b83a-574dc263cadf",
   "metadata": {},
   "outputs": [],
   "source": [
    "import pandas as pd\n",
    "import os\n",
    "import sys\n",
    "import numpy as np"
   ]
  },
  {
   "cell_type": "code",
   "execution_count": 3,
   "id": "04b9a0af-8ebf-45ed-bd92-61241966f875",
   "metadata": {},
   "outputs": [
    {
     "data": {
      "text/html": [
       "<div>\n",
       "<style scoped>\n",
       "    .dataframe tbody tr th:only-of-type {\n",
       "        vertical-align: middle;\n",
       "    }\n",
       "\n",
       "    .dataframe tbody tr th {\n",
       "        vertical-align: top;\n",
       "    }\n",
       "\n",
       "    .dataframe thead th {\n",
       "        text-align: right;\n",
       "    }\n",
       "</style>\n",
       "<table border=\"1\" class=\"dataframe\">\n",
       "  <thead>\n",
       "    <tr style=\"text-align: right;\">\n",
       "      <th></th>\n",
       "      <th>0</th>\n",
       "      <th>1</th>\n",
       "      <th>2</th>\n",
       "      <th>3</th>\n",
       "      <th>4</th>\n",
       "      <th>5</th>\n",
       "      <th>6</th>\n",
       "    </tr>\n",
       "  </thead>\n",
       "  <tbody>\n",
       "    <tr>\n",
       "      <th>0</th>\n",
       "      <td>c0a6c481-5262-4b27-b90d-8e09f6131214</td>\n",
       "      <td>S</td>\n",
       "      <td>+</td>\n",
       "      <td>30</td>\n",
       "      <td>S</td>\n",
       "      <td>+</td>\n",
       "      <td>30</td>\n",
       "    </tr>\n",
       "    <tr>\n",
       "      <th>1</th>\n",
       "      <td>a750ddbc-5e65-4262-8d41-683e9290db7d</td>\n",
       "      <td>G2M</td>\n",
       "      <td>+</td>\n",
       "      <td>26</td>\n",
       "      <td>G2M</td>\n",
       "      <td>+</td>\n",
       "      <td>26</td>\n",
       "    </tr>\n",
       "    <tr>\n",
       "      <th>2</th>\n",
       "      <td>81e11b89-e458-4cc0-b802-72b328bdf82f</td>\n",
       "      <td>S</td>\n",
       "      <td>+</td>\n",
       "      <td>26</td>\n",
       "      <td>S</td>\n",
       "      <td>+</td>\n",
       "      <td>26</td>\n",
       "    </tr>\n",
       "    <tr>\n",
       "      <th>3</th>\n",
       "      <td>6f858ada-0338-4af6-ac62-4b47d165c98b</td>\n",
       "      <td>G1</td>\n",
       "      <td>+</td>\n",
       "      <td>30</td>\n",
       "      <td>G1</td>\n",
       "      <td>+</td>\n",
       "      <td>30</td>\n",
       "    </tr>\n",
       "    <tr>\n",
       "      <th>4</th>\n",
       "      <td>b69b3428-b72b-4c1d-ae77-27c612f7b78f</td>\n",
       "      <td>G1</td>\n",
       "      <td>+</td>\n",
       "      <td>30</td>\n",
       "      <td>G1</td>\n",
       "      <td>+</td>\n",
       "      <td>30</td>\n",
       "    </tr>\n",
       "  </tbody>\n",
       "</table>\n",
       "</div>"
      ],
      "text/plain": [
       "                                      0    1  2   3    4  5   6\n",
       "0  c0a6c481-5262-4b27-b90d-8e09f6131214    S  +  30    S  +  30\n",
       "1  a750ddbc-5e65-4262-8d41-683e9290db7d  G2M  +  26  G2M  +  26\n",
       "2  81e11b89-e458-4cc0-b802-72b328bdf82f    S  +  26    S  +  26\n",
       "3  6f858ada-0338-4af6-ac62-4b47d165c98b   G1  +  30   G1  +  30\n",
       "4  b69b3428-b72b-4c1d-ae77-27c612f7b78f   G1  +  30   G1  +  30"
      ]
     },
     "execution_count": 3,
     "metadata": {},
     "output_type": "execute_result"
    }
   ],
   "source": [
    "fpath = \"/nfs/turbo/umms-indikar/shared/projects/cell_cycle/data/sc_cell_cycle_2024/barcodes/nanoplexer/log.txt\"\n",
    "\n",
    "df = pd.read_csv(fpath, sep='\\t', header=None)\n",
    "df.head()"
   ]
  },
  {
   "cell_type": "code",
   "execution_count": null,
   "id": "74bb8b24-dcd6-4eb1-bd72-a872b42fee17",
   "metadata": {},
   "outputs": [],
   "source": [
    "df[0].value_counts()"
   ]
  },
  {
   "cell_type": "code",
   "execution_count": null,
   "id": "55308c1d-4d5a-49c8-afb9-48c2d6658b22",
   "metadata": {},
   "outputs": [],
   "source": []
  }
 ],
 "metadata": {
  "kernelspec": {
   "display_name": "bioinf",
   "language": "python",
   "name": "bioinf"
  },
  "language_info": {
   "codemirror_mode": {
    "name": "ipython",
    "version": 3
   },
   "file_extension": ".py",
   "mimetype": "text/x-python",
   "name": "python",
   "nbconvert_exporter": "python",
   "pygments_lexer": "ipython3",
   "version": "3.10.14"
  }
 },
 "nbformat": 4,
 "nbformat_minor": 5
}
