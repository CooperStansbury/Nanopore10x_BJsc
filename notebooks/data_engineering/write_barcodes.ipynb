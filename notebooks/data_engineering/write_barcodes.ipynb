{
 "cells": [
  {
   "cell_type": "code",
   "execution_count": 1,
   "id": "96f2084f-cc96-4e56-8ad4-a11a6d1ac060",
   "metadata": {},
   "outputs": [],
   "source": [
    "import pandas as pd\n",
    "import numpy as np\n",
    "import os\n",
    "import sys\n",
    "import scanpy as sc"
   ]
  },
  {
   "cell_type": "markdown",
   "id": "53a0cb40-2b61-4823-946f-a1c9c8b3bfe6",
   "metadata": {},
   "source": [
    "# Load data"
   ]
  },
  {
   "cell_type": "code",
   "execution_count": 2,
   "id": "076fae24-b208-420f-bd23-85bdb68b5cd6",
   "metadata": {},
   "outputs": [
    {
     "data": {
      "text/plain": [
       "AnnData object with n_obs × n_vars = 10883 × 19393\n",
       "    obs: 'n_genes'\n",
       "    var: 'gene_name', 'Chromosome', 'Start', 'End', 'Strand'"
      ]
     },
     "execution_count": 2,
     "metadata": {},
     "output_type": "execute_result"
    }
   ],
   "source": [
    "fpath = \"/scratch/indikar_root/indikar1/shared_data/single_cell_fibroblast/scanpy/raw.anndata.h5ad\"\n",
    "\n",
    "adata = sc.read_h5ad(fpath)\n",
    "adata"
   ]
  },
  {
   "cell_type": "code",
   "execution_count": 3,
   "id": "8d0e2ce9-4992-4c9f-9b2d-385d27280b7e",
   "metadata": {},
   "outputs": [
    {
     "data": {
      "text/plain": [
       "Index(['AAACCAAAGGGTAGCA', 'AAACCAAAGTAAGGGT', 'AAACCATTCAGGTAGG',\n",
       "       'AAACCATTCCAGCCCT', 'AAACCATTCGTGACCG', 'AAACCCGCAAGCTAGT',\n",
       "       'AAACCCGCAGTTGCTC', 'AAACCCGCATCCGCTG', 'AAACCCTGTCAGGACG',\n",
       "       'AAACCCTGTCTAGTGT'],\n",
       "      dtype='object', name='cell_id')"
      ]
     },
     "execution_count": 3,
     "metadata": {},
     "output_type": "execute_result"
    }
   ],
   "source": [
    "adata.obs_names[:10]"
   ]
  },
  {
   "cell_type": "code",
   "execution_count": 5,
   "id": "de2206c2-a542-4af2-97fa-64fde65e810d",
   "metadata": {},
   "outputs": [
    {
     "name": "stdout",
     "output_type": "stream",
     "text": [
      "File '/nfs/turbo/umms-indikar/shared/projects/cell_cycle/data/sc_cell_cycle_2024/barcodes/barcode_fasta/cell_ids.fasta' has been removed.\n"
     ]
    }
   ],
   "source": [
    "# Write these out to a file\n",
    "\n",
    "outpath = \"/nfs/turbo/umms-indikar/shared/projects/cell_cycle/data/sc_cell_cycle_2024/barcodes/barcode_fasta/cell_ids.fasta\"\n",
    "\n",
    "if os.path.exists(outpath):\n",
    "    os.remove(outpath)\n",
    "    print(f\"File '{outpath}' has been removed.\")\n",
    "\n",
    "with open(outpath, \"a\") as outfile:\n",
    "    for i, bc in enumerate(adata.obs_names):\n",
    "        print(f\">{bc}\", file=outfile)\n",
    "        print(bc, file=outfile)\n",
    "    \n",
    "    # break"
   ]
  },
  {
   "cell_type": "code",
   "execution_count": 6,
   "id": "3fa69388-edd6-4d78-90f7-9c88d63c40ee",
   "metadata": {},
   "outputs": [
    {
     "data": {
      "text/plain": [
       "10883"
      ]
     },
     "execution_count": 6,
     "metadata": {},
     "output_type": "execute_result"
    }
   ],
   "source": [
    "len(adata.obs_names)"
   ]
  },
  {
   "cell_type": "code",
   "execution_count": null,
   "id": "a21700d7-562b-424c-9e3a-796bb1010291",
   "metadata": {},
   "outputs": [],
   "source": []
  }
 ],
 "metadata": {
  "kernelspec": {
   "display_name": "scanpy",
   "language": "python",
   "name": "scanpy"
  },
  "language_info": {
   "codemirror_mode": {
    "name": "ipython",
    "version": 3
   },
   "file_extension": ".py",
   "mimetype": "text/x-python",
   "name": "python",
   "nbconvert_exporter": "python",
   "pygments_lexer": "ipython3",
   "version": "3.12.5"
  }
 },
 "nbformat": 4,
 "nbformat_minor": 5
}
