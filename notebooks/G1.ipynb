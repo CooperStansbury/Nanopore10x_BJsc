{
 "cells": [
  {
   "cell_type": "code",
   "execution_count": 1,
   "id": "96f2084f-cc96-4e56-8ad4-a11a6d1ac060",
   "metadata": {},
   "outputs": [],
   "source": [
    "import sys\n",
    "import pandas as pd\n",
    "import numpy as np\n",
    "import matplotlib.pyplot as plt\n",
    "import seaborn as sns\n",
    "import scanpy as sc\n",
    "import anndata as an\n",
    "import scipy\n",
    "import sklearn\n",
    "import gget\n",
    "\n",
    "sc.settings.verbosity = 3  "
   ]
  },
  {
   "cell_type": "markdown",
   "id": "9157ce3e-383c-4c39-b7bc-3236cafd4d30",
   "metadata": {},
   "source": [
    "# Load Data"
   ]
  },
  {
   "cell_type": "code",
   "execution_count": 2,
   "id": "55c305c8-950b-465e-bc28-cecf50d93c65",
   "metadata": {},
   "outputs": [
    {
     "name": "stdout",
     "output_type": "stream",
     "text": [
      "Memory usage: current 2.47 GB, difference +2.47 GB\n"
     ]
    },
    {
     "data": {
      "text/plain": [
       "AnnData object with n_obs × n_vars = 7748 × 14082\n",
       "    obs: 'n_genes', 'cell', 'G1', 'G2M', 'S', 'pred_phase', 'seurat_S_score', 'seurat_G2M_score', 'is_kegg_score', 'whitfield_G1/S_score', 'whitfield_G2_score', 'whitfield_G2/M_score', 'whitfield_M/G1_score', 'whitfield_S_score', 'GO_G1_score', 'GO_G1/S_score', 'GO_G2_score', 'GO_G2/M_score', 'GO_M_score', 'GO_S_score', 'cell_cycle_score', 'n_genes_by_counts', 'log1p_n_genes_by_counts', 'total_counts', 'log1p_total_counts', 'pct_counts_in_top_50_genes', 'pct_counts_in_top_100_genes', 'pct_counts_in_top_200_genes', 'pct_counts_in_top_500_genes', 'total_counts_mt', 'log1p_total_counts_mt', 'pct_counts_mt', 'total_counts_ribo', 'log1p_total_counts_ribo', 'pct_counts_ribo', 'total_counts_hb', 'log1p_total_counts_hb', 'pct_counts_hb', 'leiden', 'pred_G1', 'pred_S', 'pred_G2M', 'dpt_pseudotime'\n",
       "    var: 'gene_name', 'Chromosome', 'Start', 'End', 'Strand', 'seurat_S', 'seurat_G2M', 'is_kegg', 'whitfield_G1/S', 'whitfield_G2', 'whitfield_G2/M', 'whitfield_M/G1', 'whitfield_S', 'GO_G1', 'GO_G1/S', 'GO_G2', 'GO_G2/M', 'GO_M', 'GO_S', 'cell_cycle', 'n_cells', 'mt', 'ribo', 'hb', 'n_cells_by_counts', 'mean_counts', 'log1p_mean_counts', 'pct_dropout_by_counts', 'total_counts', 'log1p_total_counts', 'highly_variable', 'means', 'dispersions', 'dispersions_norm'\n",
       "    uns: 'diffmap_evals', 'hvg', 'iroot', 'leiden', 'leiden_colors', 'log1p', 'neighbors', 'pca', 'pred_phase_colors', 'rank_genes_groups', 'umap'\n",
       "    obsm: 'X_diffmap', 'X_pca', 'X_umap'\n",
       "    varm: 'PCs'\n",
       "    layers: 'counts', 'log_norm', 'norm'\n",
       "    obsp: 'connectivities', 'distances'"
      ]
     },
     "execution_count": 2,
     "metadata": {},
     "output_type": "execute_result"
    }
   ],
   "source": [
    "fpath = \"/scratch/indikar_root/indikar1/shared_data/single_cell_fibroblast/scanpy/processed.anndata.h5ad\"\n",
    "\n",
    "adata = sc.read_h5ad(fpath)\n",
    "sc.logging.print_memory_usage()\n",
    "\n",
    "adata"
   ]
  },
  {
   "cell_type": "markdown",
   "id": "01103cc2-74d9-4750-916e-e332bd36c385",
   "metadata": {},
   "source": [
    "# Extract G1"
   ]
  },
  {
   "cell_type": "code",
   "execution_count": 42,
   "id": "1d221af6-6b62-4292-a94f-c168cabd3cd8",
   "metadata": {},
   "outputs": [
    {
     "data": {
      "text/plain": [
       "hour\n",
       "1     2885\n",
       "5      864\n",
       "4      288\n",
       "10     145\n",
       "9      136\n",
       "2      113\n",
       "6       60\n",
       "3       54\n",
       "8       46\n",
       "7       26\n",
       "11      26\n",
       "Name: count, dtype: int64"
      ]
     },
     "execution_count": 42,
     "metadata": {},
     "output_type": "execute_result"
    }
   ],
   "source": [
    "pdf = adata[adata.obs['pred_phase'] == 'G1', :].copy()\n",
    "\n",
    "# Create labels for the 11 bins\n",
    "hour_labels = [i for i in range(1, 12)]\n",
    "\n",
    "pdf.obs['hour'] = pd.cut(pdf.obs['dpt_pseudotime'], 11, labels=hour_labels)\n",
    "pdf.obs['hour'].value_counts()"
   ]
  },
  {
   "cell_type": "code",
   "execution_count": 52,
   "id": "1431e8ab-dcc2-48ed-ac80-60bba58e7bb3",
   "metadata": {},
   "outputs": [
    {
     "data": {
      "text/plain": [
       "<Axes: xlabel='hour'>"
      ]
     },
     "execution_count": 52,
     "metadata": {},
     "output_type": "execute_result"
    },
    {
     "data": {
      "image/png": "[encoded data removed]",
      "text/plain": [
       "<Figure size 640x480 with 1 Axes>"
      ]
     },
     "metadata": {},
     "output_type": "display_data"
    }
   ],
   "source": [
    "sns.scatterplot(\n",
    "    data=pdf.obs,\n",
    "    x='hour',\n",
    "    y=np.ravel(pdf[:, 'CCND1'].X),\n",
    "    hue='dpt_pseudotime',\n",
    "    legend=False,\n",
    ")"
   ]
  },
  {
   "cell_type": "code",
   "execution_count": null,
   "id": "bdc49d8b-7149-4014-942b-1d534eaeca7c",
   "metadata": {},
   "outputs": [],
   "source": []
  },
  {
   "cell_type": "code",
   "execution_count": null,
   "id": "3aee1276-ce67-41ad-9d8c-540fddfa0bd3",
   "metadata": {},
   "outputs": [],
   "source": [
    "break"
   ]
  },
  {
   "cell_type": "markdown",
   "id": "efe52e5d-7ad5-48f6-9987-a7b9bd27eee0",
   "metadata": {},
   "source": [
    "# DPT"
   ]
  },
  {
   "cell_type": "code",
   "execution_count": null,
   "id": "da1014f9-e1ad-4379-91e2-ed933ecf871e",
   "metadata": {},
   "outputs": [],
   "source": [
    "adata.uns['iroot'] = np.flatnonzero(adata.obs['pred_phase'] == 'G1')[0]\n",
    "sc.tl.dpt(adata)\n",
    "\n",
    "sc.pl.umap(\n",
    "    adata, \n",
    "    color=['pred_phase', 'dpt_pseudotime']\n",
    ")"
   ]
  },
  {
   "cell_type": "code",
   "execution_count": null,
   "id": "1209dbe0-5a4a-4b3d-adcb-1d5859a31025",
   "metadata": {},
   "outputs": [],
   "source": [
    "plt.rcParams['figure.dpi'] = 200\n",
    "plt.rcParams['figure.figsize'] = 4, 3\n",
    "\n",
    "colors = [\n",
    "    'r', 'green', 'gold',\n",
    "]\n",
    "\n",
    "sns.boxplot(\n",
    "    data=adata.obs[adata.obs['leiden'].isin(['0', '1'])],\n",
    "    x='pred_phase',\n",
    "    y='dpt_pseudotime',\n",
    "    hue='pred_phase',\n",
    "    order=['G1', 'S', 'G2M'],\n",
    "    palette=colors,\n",
    "    showfliers=False,\n",
    "    width=0.5,\n",
    ")\n",
    "\n",
    "plt.ylabel(\"Pseudotime\")\n",
    "plt.xlabel(\"\")\n",
    "sns.despine()"
   ]
  },
  {
   "cell_type": "markdown",
   "id": "fc953f95-c48e-4bea-92e3-204c9a2b5091",
   "metadata": {},
   "source": [
    "# write the object out"
   ]
  },
  {
   "cell_type": "code",
   "execution_count": null,
   "id": "cfb09a5c-45b0-46df-9be5-a3dbde04e837",
   "metadata": {},
   "outputs": [],
   "source": [
    "out_path = \"/scratch/indikar_root/indikar1/shared_data/single_cell_fibroblast/scanpy/processed.anndata.h5ad\"\n",
    "\n",
    "for column in adata.var.columns:\n",
    "    if adata.var[column].dtype == 'object':\n",
    "        adata.var[column] = adata.var[column].astype(str)\n",
    "\n",
    "# write the object to file\n",
    "adata.write(out_path)\n",
    "\n",
    "adata"
   ]
  },
  {
   "cell_type": "code",
   "execution_count": null,
   "id": "4ecf58fa-4a5c-47d4-9026-790078b66137",
   "metadata": {},
   "outputs": [],
   "source": [
    "break"
   ]
  },
  {
   "cell_type": "code",
   "execution_count": null,
   "id": "fdd5c0cd-eb85-43dc-8128-63cb9316b631",
   "metadata": {},
   "outputs": [],
   "source": []
  },
  {
   "cell_type": "code",
   "execution_count": null,
   "id": "eac2e100-afde-40bf-ae04-c949b9edfdea",
   "metadata": {},
   "outputs": [],
   "source": []
  },
  {
   "cell_type": "code",
   "execution_count": null,
   "id": "a2d0e4e7-13a7-49fc-8eea-deffbe34ec5b",
   "metadata": {},
   "outputs": [],
   "source": []
  }
 ],
 "metadata": {
  "kernelspec": {
   "display_name": "scanpy",
   "language": "python",
   "name": "scanpy"
  },
  "language_info": {
   "codemirror_mode": {
    "name": "ipython",
    "version": 3
   },
   "file_extension": ".py",
   "mimetype": "text/x-python",
   "name": "python",
   "nbconvert_exporter": "python",
   "pygments_lexer": "ipython3",
   "version": "3.12.5"
  }
 },
 "nbformat": 4,
 "nbformat_minor": 5
}
