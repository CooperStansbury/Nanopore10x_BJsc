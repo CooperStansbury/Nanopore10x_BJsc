{
 "cells": [
  {
   "cell_type": "code",
   "execution_count": 1,
   "id": "96f2084f-cc96-4e56-8ad4-a11a6d1ac060",
   "metadata": {},
   "outputs": [],
   "source": [
    "import sys\n",
    "import pandas as pd\n",
    "import numpy as np\n",
    "import matplotlib.pyplot as plt\n",
    "import seaborn as sns\n",
    "import scanpy as sc\n",
    "import anndata as an\n",
    "import scipy\n",
    "import sklearn\n",
    "import gget\n",
    "\n",
    "sc.settings.verbosity = 3  "
   ]
  },
  {
   "cell_type": "markdown",
   "id": "9157ce3e-383c-4c39-b7bc-3236cafd4d30",
   "metadata": {},
   "source": [
    "# Load Data"
   ]
  },
  {
   "cell_type": "code",
   "execution_count": 2,
   "id": "55c305c8-950b-465e-bc28-cecf50d93c65",
   "metadata": {},
   "outputs": [
    {
     "name": "stdout",
     "output_type": "stream",
     "text": [
      "Memory usage: current 1.99 GB, difference +1.99 GB\n"
     ]
    },
    {
     "data": {
      "text/plain": [
       "AnnData object with n_obs × n_vars = 10883 × 19393\n",
       "    obs: 'n_genes', 'cell'\n",
       "    var: 'gene_name', 'Chromosome', 'Start', 'End', 'Strand'"
      ]
     },
     "execution_count": 2,
     "metadata": {},
     "output_type": "execute_result"
    }
   ],
   "source": [
    "fpath = \"/scratch/indikar_root/indikar1/shared_data/single_cell_fibroblast/scanpy/raw.anndata.h5ad\"\n",
    "\n",
    "adata = sc.read_h5ad(fpath)\n",
    "adata.var_names = adata.var['gene_name'].values\n",
    "adata.obs['cell'] = adata.obs.index.copy()\n",
    "sc.logging.print_memory_usage()\n",
    "\n",
    "adata"
   ]
  },
  {
   "cell_type": "code",
   "execution_count": 3,
   "id": "203a859e-0215-46d4-8a17-19840c5e2da4",
   "metadata": {},
   "outputs": [
    {
     "data": {
      "text/plain": [
       "Index(['ATAD3B', 'PRDM16', 'SKI', 'PEX14', 'PLCH2', 'SPSB1', 'HES3', 'PLEKHM2',\n",
       "       'CA6', 'NMNAT1',\n",
       "       ...\n",
       "       'BPY2C', 'CDY2B', 'SRY', 'UTY', 'VCY', 'DAZ3', 'DAZ1', 'AMELY',\n",
       "       'RBMY1E', 'CDY1B'],\n",
       "      dtype='object', length=19393)"
      ]
     },
     "execution_count": 3,
     "metadata": {},
     "output_type": "execute_result"
    }
   ],
   "source": [
    "adata.var_names"
   ]
  },
  {
   "cell_type": "markdown",
   "id": "ca220454-6b2e-439e-ae34-a0bc7b306652",
   "metadata": {},
   "source": [
    "# Load Predicted Phases "
   ]
  },
  {
   "cell_type": "code",
   "execution_count": 4,
   "id": "80b27276-ae07-4bef-bc53-bf120633d7ea",
   "metadata": {},
   "outputs": [
    {
     "name": "stdout",
     "output_type": "stream",
     "text": [
      "df.shape=(10879, 5)\n"
     ]
    },
    {
     "data": {
      "text/html": [
       "<div>\n",
       "<style scoped>\n",
       "    .dataframe tbody tr th:only-of-type {\n",
       "        vertical-align: middle;\n",
       "    }\n",
       "\n",
       "    .dataframe tbody tr th {\n",
       "        vertical-align: top;\n",
       "    }\n",
       "\n",
       "    .dataframe thead th {\n",
       "        text-align: right;\n",
       "    }\n",
       "</style>\n",
       "<table border=\"1\" class=\"dataframe\">\n",
       "  <thead>\n",
       "    <tr style=\"text-align: right;\">\n",
       "      <th></th>\n",
       "      <th>n_genes</th>\n",
       "      <th>cell</th>\n",
       "      <th>G1</th>\n",
       "      <th>G2M</th>\n",
       "      <th>S</th>\n",
       "      <th>pred_phase</th>\n",
       "    </tr>\n",
       "    <tr>\n",
       "      <th>cell_id</th>\n",
       "      <th></th>\n",
       "      <th></th>\n",
       "      <th></th>\n",
       "      <th></th>\n",
       "      <th></th>\n",
       "      <th></th>\n",
       "    </tr>\n",
       "  </thead>\n",
       "  <tbody>\n",
       "    <tr>\n",
       "      <th>AAACCAAAGGGTAGCA</th>\n",
       "      <td>16001</td>\n",
       "      <td>AAACCAAAGGGTAGCA</td>\n",
       "      <td>80.0</td>\n",
       "      <td>403.0</td>\n",
       "      <td>87.0</td>\n",
       "      <td>G2M</td>\n",
       "    </tr>\n",
       "    <tr>\n",
       "      <th>AAACCAAAGTAAGGGT</th>\n",
       "      <td>7864</td>\n",
       "      <td>AAACCAAAGTAAGGGT</td>\n",
       "      <td>18.0</td>\n",
       "      <td>5.0</td>\n",
       "      <td>7.0</td>\n",
       "      <td>G1</td>\n",
       "    </tr>\n",
       "    <tr>\n",
       "      <th>AAACCATTCAGGTAGG</th>\n",
       "      <td>15610</td>\n",
       "      <td>AAACCATTCAGGTAGG</td>\n",
       "      <td>43.0</td>\n",
       "      <td>183.0</td>\n",
       "      <td>59.0</td>\n",
       "      <td>G2M</td>\n",
       "    </tr>\n",
       "    <tr>\n",
       "      <th>AAACCATTCCAGCCCT</th>\n",
       "      <td>10505</td>\n",
       "      <td>AAACCATTCCAGCCCT</td>\n",
       "      <td>229.0</td>\n",
       "      <td>43.0</td>\n",
       "      <td>1872.0</td>\n",
       "      <td>S</td>\n",
       "    </tr>\n",
       "    <tr>\n",
       "      <th>AAACCATTCGTGACCG</th>\n",
       "      <td>8775</td>\n",
       "      <td>AAACCATTCGTGACCG</td>\n",
       "      <td>58.0</td>\n",
       "      <td>1.0</td>\n",
       "      <td>2.0</td>\n",
       "      <td>G1</td>\n",
       "    </tr>\n",
       "  </tbody>\n",
       "</table>\n",
       "</div>"
      ],
      "text/plain": [
       "                  n_genes              cell     G1    G2M       S pred_phase\n",
       "cell_id                                                                     \n",
       "AAACCAAAGGGTAGCA    16001  AAACCAAAGGGTAGCA   80.0  403.0    87.0        G2M\n",
       "AAACCAAAGTAAGGGT     7864  AAACCAAAGTAAGGGT   18.0    5.0     7.0         G1\n",
       "AAACCATTCAGGTAGG    15610  AAACCATTCAGGTAGG   43.0  183.0    59.0        G2M\n",
       "AAACCATTCCAGCCCT    10505  AAACCATTCCAGCCCT  229.0   43.0  1872.0          S\n",
       "AAACCATTCGTGACCG     8775  AAACCATTCGTGACCG   58.0    1.0     2.0         G1"
      ]
     },
     "execution_count": 4,
     "metadata": {},
     "output_type": "execute_result"
    }
   ],
   "source": [
    "fpath = \"/home/cstansbu/git_repositories/biolegend_barcodes/result/hashmap.csv\"\n",
    "df = pd.read_csv(fpath)\n",
    "df = df.rename(columns={'phase' : 'pred_phase', 'barcode' : 'cell_id'})\n",
    "print(f\"{df.shape=}\")\n",
    "\n",
    "df = df.set_index('cell_id')\n",
    "\n",
    "adata.obs = pd.concat([adata.obs, df], ignore_index=False, axis=1)\n",
    "adata.obs.head()"
   ]
  },
  {
   "cell_type": "code",
   "execution_count": 5,
   "id": "c0e4ad4f-1eb4-4750-b8ce-bf0fbdd93627",
   "metadata": {},
   "outputs": [
    {
     "data": {
      "text/plain": [
       "pred_phase\n",
       "G1     0.619774\n",
       "G2M    0.207847\n",
       "S      0.172011\n",
       "NaN    0.000368\n",
       "Name: proportion, dtype: float64"
      ]
     },
     "execution_count": 5,
     "metadata": {},
     "output_type": "execute_result"
    }
   ],
   "source": [
    "adata.obs['pred_phase'].value_counts(normalize=True, dropna=False)"
   ]
  },
  {
   "cell_type": "markdown",
   "id": "4d91c78e-753e-4a66-953e-9f4d86353daf",
   "metadata": {},
   "source": [
    "# Load cell cycle annotations"
   ]
  },
  {
   "cell_type": "code",
   "execution_count": 6,
   "id": "acb2be98-cecd-48af-9d8a-a925df1ca2e1",
   "metadata": {},
   "outputs": [
    {
     "data": {
      "text/plain": [
       "Index(['gene_name', 'Chromosome', 'Start', 'End', 'Strand', 'seurat_S',\n",
       "       'seurat_G2M'],\n",
       "      dtype='object')"
      ]
     },
     "execution_count": 6,
     "metadata": {},
     "output_type": "execute_result"
    }
   ],
   "source": [
    "fpath = \"../resources/seurat_genes.csv\"\n",
    "\n",
    "df = pd.read_csv(fpath)\n",
    "df = df[df['gene_name'].isin(adata.var_names)]\n",
    "df = df.set_index('gene_name')\n",
    "df.columns = [f'seurat_{x.split(\" \")[0]}' for x in df.columns]\n",
    "new_cols = df.columns\n",
    "\n",
    "adata.var = pd.concat([adata.var, df], ignore_index=False, axis=1)\n",
    "adata.var[new_cols] = np.where(adata.var[new_cols].isna(), False, adata.var[new_cols])\n",
    "\n",
    "adata.var.columns"
   ]
  },
  {
   "cell_type": "code",
   "execution_count": 7,
   "id": "497705b2-f4b4-4ef4-8167-f96d5ef9971c",
   "metadata": {},
   "outputs": [
    {
     "data": {
      "text/plain": [
       "Index(['gene_name', 'Chromosome', 'Start', 'End', 'Strand', 'seurat_S',\n",
       "       'seurat_G2M', 'is_kegg'],\n",
       "      dtype='object')"
      ]
     },
     "execution_count": 7,
     "metadata": {},
     "output_type": "execute_result"
    }
   ],
   "source": [
    "\"\"\"KEGG GENES\"\"\"\n",
    "fpath = \"../resources/KEGG_HUMAN_CELL_CYCLE.txt\"\n",
    "kegg_genes = [x.strip() for x in open(fpath)]\n",
    "\n",
    "adata.var['is_kegg'] = adata.var['gene_name'].isin(kegg_genes)\n",
    "\n",
    "adata.var.columns"
   ]
  },
  {
   "cell_type": "code",
   "execution_count": 8,
   "id": "70463565-a790-4c62-9481-6eb56a341ea5",
   "metadata": {},
   "outputs": [
    {
     "data": {
      "text/plain": [
       "Index(['gene_name', 'Chromosome', 'Start', 'End', 'Strand', 'seurat_S',\n",
       "       'seurat_G2M', 'is_kegg', 'whitfield_G1/S', 'whitfield_G2',\n",
       "       'whitfield_G2/M', 'whitfield_M/G1', 'whitfield_S'],\n",
       "      dtype='object')"
      ]
     },
     "execution_count": 8,
     "metadata": {},
     "output_type": "execute_result"
    }
   ],
   "source": [
    "\"\"\"whitfield genes\"\"\"\n",
    "fpath = \"../resources/whitfield_clean.csv\"\n",
    "df = pd.read_csv(fpath)\n",
    "df = df[df['gene_name'].isin(adata.var_names)]\n",
    "df = df.set_index('gene_name')\n",
    "df.columns = [f'whitfield_{x.split(\" \")[0]}' for x in df.columns]\n",
    "new_cols = df.columns\n",
    "\n",
    "adata.var = pd.concat([adata.var, df], ignore_index=False, axis=1)\n",
    "adata.var[new_cols] = np.where(adata.var[new_cols].isna(), False, adata.var[new_cols])\n",
    "\n",
    "adata.var.columns"
   ]
  },
  {
   "cell_type": "code",
   "execution_count": 9,
   "id": "a3293686-4ee8-45cf-a354-6dbb8004bd87",
   "metadata": {},
   "outputs": [
    {
     "name": "stdout",
     "output_type": "stream",
     "text": [
      "df.shape=(142, 7)\n",
      "df.shape=(125, 7)\n"
     ]
    },
    {
     "data": {
      "text/plain": [
       "Index(['gene_name', 'Chromosome', 'Start', 'End', 'Strand', 'seurat_S',\n",
       "       'seurat_G2M', 'is_kegg', 'whitfield_G1/S', 'whitfield_G2',\n",
       "       'whitfield_G2/M', 'whitfield_M/G1', 'whitfield_S', 'GO_G1', 'GO_G1/S',\n",
       "       'GO_G2', 'GO_G2/M', 'GO_M', 'GO_S'],\n",
       "      dtype='object')"
      ]
     },
     "execution_count": 9,
     "metadata": {},
     "output_type": "execute_result"
    }
   ],
   "source": [
    "\"\"\"gene ontology\"\"\"\n",
    "fpath = \"/nfs/turbo/umms-indikar/shared/projects/cell_cycle/data/go_cell_cycle_genes/human_cell_cycle_genes.csv\"\n",
    "df = pd.read_csv(fpath)\n",
    "print(f\"{df.shape=}\")\n",
    "df = df[df['gene_name'].isin(adata.var_names)]\n",
    "print(f\"{df.shape=}\")\n",
    "df = df.set_index('gene_name')\n",
    "df.columns = [f\"GO_{x.split(' ')[0]}\" for x in df.columns]\n",
    "new_cols = df.columns\n",
    "\n",
    "adata.var = pd.concat([adata.var, df], ignore_index=False, axis=1)\n",
    "adata.var[new_cols] = np.where(adata.var[new_cols].isna(), False, adata.var[new_cols])\n",
    "\n",
    "adata.var.columns"
   ]
  },
  {
   "cell_type": "code",
   "execution_count": 10,
   "id": "29a41657-afd9-4793-91d1-c291d8ce581f",
   "metadata": {},
   "outputs": [
    {
     "data": {
      "text/plain": [
       "cell_cycle\n",
       "False    19166\n",
       "True       227\n",
       "Name: count, dtype: int64"
      ]
     },
     "execution_count": 10,
     "metadata": {},
     "output_type": "execute_result"
    }
   ],
   "source": [
    "cell_cycle_cols = [\n",
    "    'seurat_S',\n",
    "    'seurat_G2M',\n",
    "    'is_kegg',\n",
    "    'whitfield_G1/S', \n",
    "    'whitfield_G2', \n",
    "    'whitfield_G2/M', \n",
    "    'whitfield_M/G1',\n",
    "    'whitfield_S', \n",
    "    'GO_G1', \n",
    "    'GO_G1/S',\n",
    "    'GO_G2',\n",
    "    'GO_G2/M', \n",
    "    'GO_M',\n",
    "    'GO_S',\n",
    "]\n",
    "\n",
    "adata.var['cell_cycle'] = adata.var[cell_cycle_cols].any(axis=1)\n",
    "adata.var['cell_cycle'].value_counts()"
   ]
  },
  {
   "cell_type": "markdown",
   "id": "b884c110-731e-45d5-b518-8042364ce0fe",
   "metadata": {},
   "source": [
    "# Gene set scoring"
   ]
  },
  {
   "cell_type": "code",
   "execution_count": null,
   "id": "7cbdf0d6-d874-4234-97cc-a7f937b17952",
   "metadata": {},
   "outputs": [
    {
     "name": "stdout",
     "output_type": "stream",
     "text": [
      "seurat_S n genes: 43\n",
      "computing score 'seurat_S_score'\n",
      "    finished: added\n",
      "    'seurat_S_score', score of gene set (adata.obs).\n",
      "    950 total control genes are used. (0:00:00)\n",
      "seurat_G2M n genes: 54\n",
      "computing score 'seurat_G2M_score'\n",
      "    finished: added\n",
      "    'seurat_G2M_score', score of gene set (adata.obs).\n",
      "    1044 total control genes are used. (0:00:00)\n",
      "is_kegg n genes: 97\n",
      "computing score 'is_kegg_score'\n",
      "    finished: added\n",
      "    'is_kegg_score', score of gene set (adata.obs).\n",
      "    1044 total control genes are used. (0:00:00)\n",
      "whitfield_G1/S n genes: 12\n",
      "computing score 'whitfield_G1/S_score'\n",
      "    finished: added\n",
      "    'whitfield_G1/S_score', score of gene set (adata.obs).\n",
      "    350 total control genes are used. (0:00:00)\n",
      "whitfield_G2 n genes: 5\n",
      "computing score 'whitfield_G2_score'\n",
      "    finished: added\n",
      "    'whitfield_G2_score', score of gene set (adata.obs).\n",
      "    200 total control genes are used. (0:00:00)\n",
      "whitfield_G2/M n genes: 11\n",
      "computing score 'whitfield_G2/M_score'\n",
      "    finished: added\n",
      "    'whitfield_G2/M_score', score of gene set (adata.obs).\n",
      "    349 total control genes are used. (0:00:00)\n",
      "whitfield_M/G1 n genes: 1\n",
      "computing score 'whitfield_M/G1_score'\n",
      "    finished: added\n",
      "    'whitfield_M/G1_score', score of gene set (adata.obs).\n",
      "    50 total control genes are used. (0:00:00)\n",
      "whitfield_S n genes: 5\n",
      "computing score 'whitfield_S_score'\n",
      "    finished: added\n",
      "    'whitfield_S_score', score of gene set (adata.obs).\n",
      "    200 total control genes are used. (0:00:00)\n",
      "GO_G1 n genes: 9\n",
      "computing score 'GO_G1_score'\n"
     ]
    }
   ],
   "source": [
    "for column in cell_cycle_cols + ['cell_cycle']:\n",
    "    gene_list = adata.var[adata.var[column]]['gene_name'].to_list()\n",
    "    print(f\"{column} n genes: {len(gene_list)}\")\n",
    "    \n",
    "    sc.tl.score_genes(\n",
    "        adata, \n",
    "        gene_list,\n",
    "        ctrl_size=50,\n",
    "        score_name=f\"{column}_score\"\n",
    "    )\n",
    "\n",
    "print('done')"
   ]
  },
  {
   "cell_type": "markdown",
   "id": "7f54f014-1757-4e33-87f3-00eb4ca19cd9",
   "metadata": {},
   "source": [
    "# Basic QC"
   ]
  },
  {
   "cell_type": "code",
   "execution_count": null,
   "id": "eb526146-7422-4567-816e-dd2410498dac",
   "metadata": {},
   "outputs": [],
   "source": [
    "# Saving count data\n",
    "adata.layers[\"counts\"] = adata.X.copy()\n",
    "\n",
    "# filtration\n",
    "sc.pp.filter_cells(adata, min_genes=500)\n",
    "sc.pp.filter_genes(adata, min_cells=5)\n",
    "\n",
    "# mitochondrial genes, \"MT-\" for human, \"Mt-\" for mouse\n",
    "adata.var[\"mt\"] = adata.var_names.str.startswith(\"MT-\")\n",
    "# ribosomal genes\n",
    "adata.var[\"ribo\"] = adata.var_names.str.startswith((\"RPS\", \"RPL\"))\n",
    "# hemoglobin genes\n",
    "adata.var[\"hb\"] = adata.var_names.str.contains(\"^HB[^(P)]\")\n",
    "\n",
    "sc.pp.calculate_qc_metrics(\n",
    "    adata, qc_vars=[\"mt\", \"ribo\", \"hb\"], inplace=True, log1p=True,\n",
    ")\n",
    "\n",
    "adata"
   ]
  },
  {
   "cell_type": "markdown",
   "id": "72093f8b-01e9-4ca6-a175-f495773d297b",
   "metadata": {},
   "source": [
    "# Basic Preprocessing"
   ]
  },
  {
   "cell_type": "code",
   "execution_count": null,
   "id": "dd70cb64-4381-48dc-a19c-355c1a3b5021",
   "metadata": {},
   "outputs": [],
   "source": [
    "# Normalizing to median total counts\n",
    "sc.pp.normalize_total(adata, target_sum=1e4)\n",
    "adata.layers[\"norm\"] = adata.X.copy()\n",
    "\n",
    "# Logarithmize the data\n",
    "sc.pp.log1p(adata)\n",
    "adata.layers[\"log_norm\"] = adata.X.copy()\n",
    "\n",
    "sc.pp.highly_variable_genes(adata)\n",
    "\n",
    "sc.tl.pca(\n",
    "    adata,\n",
    "    mask_var='highly_variable',\n",
    "    n_comps=15,\n",
    ")\n",
    "\n",
    "sc.pl.pca_variance_ratio(adata)\n",
    "\n",
    "sc.pp.neighbors(adata)"
   ]
  },
  {
   "cell_type": "code",
   "execution_count": null,
   "id": "22206693-c8d7-4bb9-8629-7dff9b05d799",
   "metadata": {},
   "outputs": [],
   "source": [
    "sc.logging.print_memory_usage()"
   ]
  },
  {
   "cell_type": "code",
   "execution_count": null,
   "id": "09659485-11a7-48ef-9628-770a37b75e0a",
   "metadata": {},
   "outputs": [],
   "source": [
    "# break"
   ]
  },
  {
   "cell_type": "markdown",
   "id": "50c3b62c-0645-4f0c-abaf-9687412648c5",
   "metadata": {},
   "source": [
    "# UMAP/Clustering"
   ]
  },
  {
   "cell_type": "code",
   "execution_count": null,
   "id": "dfd530f3-2570-49a6-8285-7c27d614ccbe",
   "metadata": {},
   "outputs": [],
   "source": [
    "sc.tl.umap(adata)\n",
    "sc.tl.leiden(adata, resolution=0.2)\n",
    "adata"
   ]
  },
  {
   "cell_type": "code",
   "execution_count": null,
   "id": "2fb632ee-c913-47c3-b074-df43d94f8f25",
   "metadata": {},
   "outputs": [],
   "source": [
    "plt.rcParams['figure.dpi'] = 200\n",
    "plt.rcParams['figure.figsize'] = 4, 4\n",
    "\n",
    "sc.pl.umap(\n",
    "    adata, \n",
    "    color=[\"leiden\",\n",
    "           \"pred_phase\",\n",
    "           \"total_counts\",\n",
    "           \"n_genes\",\n",
    "          ],\n",
    "    ncols=2,\n",
    ")"
   ]
  },
  {
   "cell_type": "code",
   "execution_count": null,
   "id": "8b8289a3-bdd2-4a20-ae89-71fc6fc5bcdf",
   "metadata": {},
   "outputs": [],
   "source": [
    "\"\"\" plot the reads associated with each biolegend feature \"\"\"\n",
    "\n",
    "adata.obs['pred_G1'] = np.log1p(adata.obs['G1'])\n",
    "adata.obs['pred_S'] = np.log1p(adata.obs['S'])\n",
    "adata.obs['pred_G2M'] = np.log1p(adata.obs['G2M'])\n",
    "\n",
    "sc.pl.umap(\n",
    "    adata, \n",
    "    color=[\"pred_phase\", \"pred_G1\", \"pred_S\",\"pred_G2M\"],\n",
    "    ncols=2,\n",
    ")"
   ]
  },
  {
   "cell_type": "code",
   "execution_count": null,
   "id": "9c2a15fa-b2d7-4e9d-ac18-7d2e0147f566",
   "metadata": {},
   "outputs": [],
   "source": [
    "sc.pl.umap(\n",
    "    adata,\n",
    "    color=[\n",
    "        'seurat_S_score', 'seurat_G2M_score', \n",
    "        'whitfield_G1/S_score', 'whitfield_G2_score', 'whitfield_G2/M_score', 'whitfield_M/G1_score', 'whitfield_S_score', \n",
    "        'GO_G1_score', 'GO_G1/S_score', 'GO_G2_score', 'GO_G2/M_score', 'GO_M_score', 'GO_S_score',\n",
    "    ],\n",
    "    ncols=4,\n",
    ")"
   ]
  },
  {
   "cell_type": "markdown",
   "id": "d0e65b4e-7506-47db-a4b0-976454ace443",
   "metadata": {},
   "source": [
    "# Gene Expression"
   ]
  },
  {
   "cell_type": "code",
   "execution_count": null,
   "id": "8e92a46b-998c-4386-b228-18a91f09bf86",
   "metadata": {},
   "outputs": [],
   "source": [
    "plt.rcParams['figure.dpi'] = 200\n",
    "plt.rcParams['figure.figsize'] = 4, 4\n",
    "\n",
    "sc.pl.umap(\n",
    "    adata, \n",
    "    color=['APP', \"PRIM1\", \"CDK4\", \"CDKN1A\", \"GMNN\", \"ABCB1\"],\n",
    "    ncols=3,\n",
    ")"
   ]
  },
  {
   "cell_type": "markdown",
   "id": "805372d2-282b-404b-975e-e42750e295b1",
   "metadata": {},
   "source": [
    "# DEG by predicted phase"
   ]
  },
  {
   "cell_type": "code",
   "execution_count": null,
   "id": "0fbec1cd-6952-4a20-8f44-0dceaf18d09b",
   "metadata": {},
   "outputs": [],
   "source": [
    "sc.tl.rank_genes_groups(\n",
    "    adata, \n",
    "    groupby=\"pred_phase\",\n",
    "    method='wilcoxon',\n",
    "    corr_method='benjamini-hochberg',\n",
    "    pts=True,\n",
    ")\n",
    "\n",
    "deg = sc.get.rank_genes_groups_df(\n",
    "    adata, \n",
    "    group=None\n",
    ")\n",
    "\n",
    "deg.head()"
   ]
  },
  {
   "cell_type": "code",
   "execution_count": null,
   "id": "b4d74284-1cfb-495b-8b5f-2e618dd85522",
   "metadata": {},
   "outputs": [],
   "source": [
    "logfoldchanges = 1.0\n",
    "pvals_adj = 0.05\n",
    "n_genes = 5\n",
    "\n",
    "sig = deg.copy()\n",
    "\n",
    "sig = sig[sig['logfoldchanges'] > logfoldchanges]\n",
    "sig = sig[sig['pvals_adj'] < pvals_adj]\n",
    "\n",
    "gx = sig.groupby('group').head(n_genes)\n",
    "\n",
    "sc.pl.umap(\n",
    "    adata,\n",
    "    color=gx['names'].to_list(),\n",
    "    ncols=n_genes,\n",
    ")    \n",
    "\n",
    "gx"
   ]
  },
  {
   "cell_type": "code",
   "execution_count": null,
   "id": "1064397e-b752-43a1-a4ed-3a0a699ad016",
   "metadata": {},
   "outputs": [],
   "source": [
    "logfoldchanges = 0.0\n",
    "pvals_adj = 0.05\n",
    "n_genes = 5\n",
    "\n",
    "sig = deg.copy()\n",
    "\n",
    "sig = sig[sig['logfoldchanges'] > logfoldchanges]\n",
    "sig = sig[sig['pvals_adj'] < pvals_adj]\n",
    "\n",
    "cycle_genes = adata.var[adata.var['cell_cycle']]['gene_name'].values\n",
    "\n",
    "sig = sig[sig['names'].isin(cycle_genes)]\n",
    "gx = sig.groupby('group').head(n_genes)\n",
    "\n",
    "sc.pl.umap(\n",
    "    adata,\n",
    "    color=gx['names'].to_list(),\n",
    "    ncols=n_genes,\n",
    ")\n",
    "\n",
    "gx"
   ]
  },
  {
   "cell_type": "code",
   "execution_count": null,
   "id": "93f91065-ab1d-4600-8f4c-522ded4830aa",
   "metadata": {},
   "outputs": [],
   "source": [
    "columns = [\n",
    "    'seurat_S','seurat_G2M',\n",
    "    'whitfield_G1/S', 'whitfield_G2','whitfield_G2/M', 'whitfield_M/G1', 'whitfield_S', \n",
    "    'GO_G1', 'GO_G1/S','GO_G2', 'GO_G2/M', 'GO_M', 'GO_S',\n",
    "]\n",
    "\n",
    "adata.var[adata.var['gene_name'].isin(gx['names'])][columns]"
   ]
  },
  {
   "cell_type": "code",
   "execution_count": null,
   "id": "18100f69-3d25-45e5-bf0f-9d3e428a36fe",
   "metadata": {},
   "outputs": [],
   "source": [
    "logfoldchanges = 1.0\n",
    "pvals_adj = 0.05\n",
    "n_genes = 25\n",
    "database = 'ontology'\n",
    "\n",
    "sig = deg.copy()\n",
    "sig = sig[sig['logfoldchanges'] > logfoldchanges]\n",
    "sig = sig[sig['pvals_adj'] < pvals_adj]\n",
    "sig = sig.sort_values(by=['group', 'logfoldchanges'], ascending=[True, False])\n",
    "\n",
    "# Informative print statements with formatting\n",
    "for group_name, group_df in sig.groupby('group'):\n",
    "    print(f\"\\n{'='*20} Analyzing group: {group_name} {'='*20}\")  # Clear group header\n",
    "    \n",
    "    group_df = group_df.head(n_genes)\n",
    "    query = group_df['names'].to_list()\n",
    "    edf = gget.enrichr(query, database)\n",
    "    edf = edf[['path_name', 'adj_p_val', 'overlapping_genes']]\n",
    "\n",
    "    if not edf.empty:\n",
    "        print(f\"\\nTop Enrichment Results for '{group_name}':\\n\")\n",
    "        print(edf.head(10).to_string(index=False))  # Nicely formatted table\n",
    "    else:\n",
    "        print(f\"\\nNo significant enrichment results found for '{group_name}'.\\n\")\n",
    "\n",
    "    print(\"-\" * 50)  # Separator between groups"
   ]
  },
  {
   "cell_type": "markdown",
   "id": "efe52e5d-7ad5-48f6-9987-a7b9bd27eee0",
   "metadata": {},
   "source": [
    "# DPT"
   ]
  },
  {
   "cell_type": "code",
   "execution_count": null,
   "id": "da1014f9-e1ad-4379-91e2-ed933ecf871e",
   "metadata": {},
   "outputs": [],
   "source": [
    "adata.uns['iroot'] = np.flatnonzero(adata.obs['pred_phase'] == 'G1')[0]\n",
    "sc.tl.dpt(adata)\n",
    "\n",
    "sc.pl.umap(\n",
    "    adata, \n",
    "    color=['pred_phase', 'dpt_pseudotime']\n",
    ")"
   ]
  },
  {
   "cell_type": "code",
   "execution_count": null,
   "id": "1209dbe0-5a4a-4b3d-adcb-1d5859a31025",
   "metadata": {},
   "outputs": [],
   "source": [
    "plt.rcParams['figure.dpi'] = 200\n",
    "plt.rcParams['figure.figsize'] = 4, 3\n",
    "\n",
    "colors = [\n",
    "    'r', 'green', 'gold',\n",
    "]\n",
    "\n",
    "sns.boxplot(\n",
    "    data=adata.obs[adata.obs['leiden'].isin(['0', '1'])],\n",
    "    x='pred_phase',\n",
    "    y='dpt_pseudotime',\n",
    "    hue='pred_phase',\n",
    "    order=['G1', 'S', 'G2M'],\n",
    "    palette=colors,\n",
    "    showfliers=False,\n",
    "    width=0.5,\n",
    ")\n",
    "\n",
    "plt.ylabel(\"Pseudotime\")\n",
    "plt.xlabel(\"\")\n",
    "sns.despine()"
   ]
  },
  {
   "cell_type": "markdown",
   "id": "fc953f95-c48e-4bea-92e3-204c9a2b5091",
   "metadata": {},
   "source": [
    "# write the object out"
   ]
  },
  {
   "cell_type": "code",
   "execution_count": null,
   "id": "cfb09a5c-45b0-46df-9be5-a3dbde04e837",
   "metadata": {},
   "outputs": [],
   "source": [
    "out_path = \"/scratch/indikar_root/indikar1/shared_data/single_cell_fibroblast/scanpy/processed.anndata.h5ad\"\n",
    "\n",
    "\n",
    "for column in adata.var.columns:\n",
    "    if adata.var[column].dtype == 'object':\n",
    "        adata.var[column] = adata.var[column].astype(str)\n",
    "\n",
    "# write the object to file\n",
    "adata.write(out_path)\n",
    "\n",
    "adata"
   ]
  },
  {
   "cell_type": "code",
   "execution_count": null,
   "id": "4ecf58fa-4a5c-47d4-9026-790078b66137",
   "metadata": {},
   "outputs": [],
   "source": [
    "break"
   ]
  },
  {
   "cell_type": "code",
   "execution_count": null,
   "id": "fdd5c0cd-eb85-43dc-8128-63cb9316b631",
   "metadata": {},
   "outputs": [],
   "source": []
  },
  {
   "cell_type": "code",
   "execution_count": null,
   "id": "eac2e100-afde-40bf-ae04-c949b9edfdea",
   "metadata": {},
   "outputs": [],
   "source": []
  },
  {
   "cell_type": "code",
   "execution_count": null,
   "id": "a2d0e4e7-13a7-49fc-8eea-deffbe34ec5b",
   "metadata": {},
   "outputs": [],
   "source": []
  }
 ],
 "metadata": {
  "kernelspec": {
   "display_name": "scanpy",
   "language": "python",
   "name": "scanpy"
  },
  "language_info": {
   "codemirror_mode": {
    "name": "ipython",
    "version": 3
   },
   "file_extension": ".py",
   "mimetype": "text/x-python",
   "name": "python",
   "nbconvert_exporter": "python",
   "pygments_lexer": "ipython3",
   "version": "3.12.5"
  }
 },
 "nbformat": 4,
 "nbformat_minor": 5
}
